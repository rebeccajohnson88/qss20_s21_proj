{
 "cells": [
  {
   "cell_type": "code",
   "execution_count": 1,
   "metadata": {},
   "outputs": [],
   "source": [
    "import os\n",
    "import requests\n",
    "from bs4 import BeautifulSoup"
   ]
  },
  {
   "cell_type": "code",
   "execution_count": 2,
   "metadata": {},
   "outputs": [],
   "source": [
    "url = 'https://www.dol.gov/agencies/eta/foreign-labor/performance'\n",
    "\n",
    "response = requests.get(url)\n",
    "\n",
    "soup = BeautifulSoup(response.text, 'html.parser')\n",
    "excel_files = soup.select('a[href*=xlsx]')"
   ]
  },
  {
   "cell_type": "code",
   "execution_count": 49,
   "metadata": {},
   "outputs": [],
   "source": [
    "# path to output folder, change to '.' to use current folder\n",
    "OUTPUT_DIR = os.path.expanduser(\"~/Dropbox (Dartmouth College)/qss20_finalproj_rawdata/summerwork/raw\")\n",
    "\n",
    "# uncomment one of the following path for your own use\n",
    "#OUTPUT_DIR = os.path.expanduser(\"~/Dropbox/qss20_finalproj_rawdata/summerwork/raw\")\n",
    "#OUTPUT_DIR = \".\""
   ]
  },
  {
   "cell_type": "code",
   "execution_count": 57,
   "metadata": {},
   "outputs": [
    {
     "name": "stdout",
     "output_type": "stream",
     "text": [
      "Saved: H_2A_Disclosure_Data_FY2021.xlsx\n",
      "Saved: H_2A_Disclosure_Data_FY2020.xlsx\n",
      "Saved: H_2A_Disclosure_Data_FY2019.xlsx\n",
      "Saved: H_2A_Disclosure_Data_FY2018.xlsx\n",
      "Saved: H_2A_Disclosure_Data_FY2017.xlsx\n",
      "Saved: H_2A_Disclosure_Data_FY2016.xlsx\n",
      "Saved: H_2A_Disclosure_Data_FY2015.xlsx\n",
      "Saved: H_2A_Disclosure_Data_FY2014.xlsx\n"
     ]
    }
   ],
   "source": [
    "# keep track of the year\n",
    "year = 2021\n",
    "\n",
    "# NOTE: following code partially sourced from https://stackoverflow.com/questions/56459371/download-xls-file-from-a-webpage-web-scraper\n",
    "# loop through all excel files\n",
    "for ex in excel_files:\n",
    "    # select h2a and skip addendum\n",
    "    if 'H-2A' in ex.text and 'Addendum' not in ex.text:\n",
    "        \n",
    "        if year >= 2014:\n",
    "            link = 'https://www.dol.gov' + ex['href']\n",
    "            \n",
    "            filename = \"H_2A_Disclosure_Data_FY\"+str(year)+\".xlsx\"\n",
    "            \n",
    "            if os.path.isfile(OUTPUT_DIR + '/' + filename):\n",
    "                print ('*** File already exists: %s ***' %filename)\n",
    "                continue\n",
    "\n",
    "            resp = requests.get(link)\n",
    "            output = open(OUTPUT_DIR + '/' + filename, 'wb')\n",
    "            output.write(resp.content)\n",
    "            output.close()\n",
    "            print ('Saved: %s' %filename)\n",
    "\n",
    "            year-=1\n",
    "\n",
    "        # when reached 2014 data\n",
    "        else:\n",
    "            break"
   ]
  },
  {
   "cell_type": "code",
   "execution_count": null,
   "metadata": {},
   "outputs": [],
   "source": []
  }
 ],
 "metadata": {
  "kernelspec": {
   "display_name": "Python 3",
   "language": "python",
   "name": "python3"
  },
  "language_info": {
   "codemirror_mode": {
    "name": "ipython",
    "version": 3
   },
   "file_extension": ".py",
   "mimetype": "text/x-python",
   "name": "python",
   "nbconvert_exporter": "python",
   "pygments_lexer": "ipython3",
   "version": "3.8.5"
  }
 },
 "nbformat": 4,
 "nbformat_minor": 4
}
