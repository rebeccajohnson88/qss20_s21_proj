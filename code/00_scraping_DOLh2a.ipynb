{
 "cells": [
  {
   "cell_type": "code",
   "execution_count": 9,
   "metadata": {},
   "outputs": [
    {
     "name": "stdout",
     "output_type": "stream",
     "text": [
      "/Users/rebeccajohnson/Dropbox/qss20_s21_proj/code\n"
     ]
    }
   ],
   "source": [
    "## packages and imports\n",
    "\n",
    "import os\n",
    "import requests\n",
    "from bs4 import BeautifulSoup\n",
    "print(os.getcwd())\n",
    "\n",
    "## pathname parameter\n",
    "## going two-levels up from the current directory which is nested within Dropbox\n",
    "OUTPUT_DIR = \"../../qss20_finalproj_rawdata/summerwork/raw/\"\n",
    "REPULL_RAW = True"
   ]
  },
  {
   "cell_type": "code",
   "execution_count": 11,
   "metadata": {},
   "outputs": [],
   "source": [
    "url = 'https://www.dol.gov/agencies/eta/foreign-labor/performance'\n",
    "\n",
    "response = requests.get(url)\n",
    "\n",
    "soup = BeautifulSoup(response.text, 'html.parser')\n",
    "excel_files = soup.select('a[href*=xlsx]')"
   ]
  },
  {
   "cell_type": "code",
   "execution_count": 16,
   "metadata": {},
   "outputs": [
    {
     "name": "stdout",
     "output_type": "stream",
     "text": [
      "*** File already exists: H_2A_Disclosure_Data_FY2021.xlsx ***\n",
      "*** File already exists: H_2A_Disclosure_Data_FY2020.xlsx ***\n",
      "*** File already exists: H_2A_Disclosure_Data_FY2019.xlsx ***\n",
      "*** File already exists: H_2A_Disclosure_Data_FY2018.xlsx ***\n",
      "*** File already exists: H_2A_Disclosure_Data_FY2017.xlsx ***\n",
      "*** File already exists: H_2A_Disclosure_Data_FY2016.xlsx ***\n",
      "*** File already exists: H_2A_Disclosure_Data_FY2015.xlsx ***\n",
      "*** File already exists: H_2A_Disclosure_Data_FY2014.xlsx ***\n"
     ]
    }
   ],
   "source": [
    "year = 2021\n",
    "\n",
    "# NOTE: following code partially sourced from https://stackoverflow.com/questions/56459371/download-xls-file-from-a-webpage-web-scraper\n",
    "# loop through all excel files\n",
    "for ex in excel_files:\n",
    "    # select h2a and skip addendum\n",
    "    if 'H-2A' in ex.text and 'Addendum' not in ex.text:\n",
    "\n",
    "        if year >= 2014:\n",
    "            link = 'https://www.dol.gov' + ex['href']\n",
    "\n",
    "            filename = \"H_2A_Disclosure_Data_FY\"+str(year)+\".xlsx\"\n",
    "\n",
    "            if os.path.isfile(OUTPUT_DIR + '/' + filename):\n",
    "                print ('*** File already exists: %s ***' %filename)\n",
    "                year-=1\n",
    "                continue\n",
    "\n",
    "\n",
    "            resp = requests.get(link)\n",
    "            output = open(OUTPUT_DIR + '/' + filename, 'wb')\n",
    "            output.write(resp.content)\n",
    "            output.close()\n",
    "            print ('Saved: %s' %filename)\n",
    "\n",
    "            year-=1\n",
    "\n",
    "        # when reached 2014 data\n",
    "        else:\n",
    "            break"
   ]
  }
 ],
 "metadata": {
  "kernelspec": {
   "display_name": "Python 3",
   "language": "python",
   "name": "python3"
  },
  "language_info": {
   "codemirror_mode": {
    "name": "ipython",
    "version": 3
   },
   "file_extension": ".py",
   "mimetype": "text/x-python",
   "name": "python",
   "nbconvert_exporter": "python",
   "pygments_lexer": "ipython3",
   "version": "3.8.3"
  }
 },
 "nbformat": 4,
 "nbformat_minor": 4
}
