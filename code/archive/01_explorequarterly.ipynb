{
 "cells": [
  {
   "cell_type": "code",
   "execution_count": 1,
   "metadata": {},
   "outputs": [],
   "source": [
    "import pandas as pd\n",
    "\n",
    "pd.set_option('display.max_colwidth', None)"
   ]
  },
  {
   "cell_type": "code",
   "execution_count": 2,
   "metadata": {},
   "outputs": [],
   "source": [
    "\n",
    "\n",
    "job_disc_rec = pd.read_excel(\"https://www.dol.gov/sites/dolgov/files/ETA/oflc/pdfs/H2A_Disclosure_Data_FY2021_Q1.xlsx\")"
   ]
  },
  {
   "cell_type": "code",
   "execution_count": 3,
   "metadata": {},
   "outputs": [
    {
     "data": {
      "text/plain": [
       "TOTAL_WORKERS_H2A_CERTIFIED    0.139406\n",
       "dtype: float64"
      ]
     },
     "execution_count": 3,
     "metadata": {},
     "output_type": "execute_result"
    }
   ],
   "source": [
    "trla_catchment = ['TX', 'MS', 'LA', 'KY', 'AL', 'TN']\n",
    "sum_trla = job_disc_rec[job_disc_rec.EMPLOYER_STATE.isin(trla_catchment)]['TOTAL_WORKERS_H2A_CERTIFIED'].sum()\n",
    "sum_trla\n",
    "\n",
    "sum_all = job_disc_rec[['TOTAL_WORKERS_H2A_CERTIFIED']].sum()\n",
    "sum_all\n",
    "\n",
    "\n",
    "sum_trla/sum_all\n",
    "#job_disc_rec.EMPLOYER_STATE.value_counts(sort = True, ascending = False)"
   ]
  },
  {
   "cell_type": "code",
   "execution_count": 12,
   "metadata": {},
   "outputs": [],
   "source": [
    "job_disc_rec.to_csv(\"../data/intermediate/jobs_21Q1.csv\", index = False)"
   ]
  }
 ],
 "metadata": {
  "kernelspec": {
   "display_name": "Python 3",
   "language": "python",
   "name": "python3"
  },
  "language_info": {
   "codemirror_mode": {
    "name": "ipython",
    "version": 3
   },
   "file_extension": ".py",
   "mimetype": "text/x-python",
   "name": "python",
   "nbconvert_exporter": "python",
   "pygments_lexer": "ipython3",
   "version": "3.8.3"
  }
 },
 "nbformat": 4,
 "nbformat_minor": 4
}
