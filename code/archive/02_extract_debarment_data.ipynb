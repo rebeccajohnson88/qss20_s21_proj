{
 "cells": [
  {
   "cell_type": "markdown",
   "metadata": {},
   "source": [
    "# Debarment Data Extraction"
   ]
  },
  {
   "cell_type": "code",
   "execution_count": 9,
   "metadata": {},
   "outputs": [],
   "source": [
    "import tabula\n",
    "import pandas as pd\n",
    "import os\n",
    "import re"
   ]
  },
  {
   "cell_type": "code",
   "execution_count": 2,
   "metadata": {},
   "outputs": [],
   "source": [
    "# pdf path names\n",
    "## can also read from raw dir if \n",
    "## path names change\n",
    "path1 = \"https://www.foreignlaborcert.doleta.gov/pdf/H-2A_Expired_Debarments_OFLC_webpage_Final_Draft.pdf\"\n",
    "path2 = \"https://www.dol.gov/sites/dolgov/files/ETA/oflc/pdfs/Debarment_List.pdf\""
   ]
  },
  {
   "cell_type": "markdown",
   "metadata": {},
   "source": [
    "### Pulling out h2a debarment data"
   ]
  },
  {
   "cell_type": "code",
   "execution_count": 3,
   "metadata": {},
   "outputs": [],
   "source": [
    "# read in with tabula\n",
    "debar_h2a = tabula.read_pdf(path1, lattice=True, pages = \"all\", pandas_options={'header':None})\n",
    "# pull out headers\n",
    "headers = debar_h2a[0].values.tolist()[2]\n",
    "# cut out excessive rows at the beginning\n",
    "debar_h2a[0] = debar_h2a[0].iloc[5:]\n",
    "# assign headers to each df in the list of dfs\n",
    "for df in debar_h2a: df.columns = headers\n",
    "# concat all df\n",
    "h2a_concat = pd.concat(debar_h2a)"
   ]
  },
  {
   "cell_type": "code",
   "execution_count": 4,
   "metadata": {},
   "outputs": [],
   "source": [
    "pd.set_option('display.max_rows', 200)\n"
   ]
  },
  {
   "cell_type": "code",
   "execution_count": 17,
   "metadata": {},
   "outputs": [],
   "source": [
    "# deal with Nas\n",
    "h2a_concat = h2a_concat[~h2a_concat.Name.str.contains('FY', na=False)]\n",
    "h2a_final = h2a_concat.dropna(how='all').copy()\n",
    "h2a_final.reset_index(drop=True, inplace=True)"
   ]
  },
  {
   "cell_type": "code",
   "execution_count": 18,
   "metadata": {},
   "outputs": [
    {
     "name": "stdout",
     "output_type": "stream",
     "text": [
      "                                Name     City, State  \\\n",
      "0                     J&J Harvesting       Leads, ND   \n",
      "1             Stahlman Apiaries, Inc       Selby, SD   \n",
      "2                      Trust Nursery     Pulaski, NY   \n",
      "3              Anton Fertilizer Inc.     Dighton, KS   \n",
      "4  Great Plains Fluid Service,\\rInc.  Greensburg, KS   \n",
      "\n",
      "                                         Violation Duration Start date  \\\n",
      "0  Failure to respond to audit (partial\\rresponse)  2 years  1/19/2014   \n",
      "1  Failure to respond to audit (partial\\rresponse)   1 year  2/19/2015   \n",
      "2  Failure to respond to audit (partial\\rresponse)   1 year  3/21/2014   \n",
      "3       Failure to respond to audit (no\\rresponse)  2 years  3/30/2014   \n",
      "4       Failure to respond to audit (no\\rresponse)  2 years  3/30/2014   \n",
      "\n",
      "    End date  \n",
      "0  1/18/2016  \n",
      "1  2/14/2016  \n",
      "2  3/20/2015  \n",
      "3  3/29/2016  \n",
      "4  3/29/2016  \n"
     ]
    },
    {
     "data": {
      "text/html": [
       "<div>\n",
       "<style scoped>\n",
       "    .dataframe tbody tr th:only-of-type {\n",
       "        vertical-align: middle;\n",
       "    }\n",
       "\n",
       "    .dataframe tbody tr th {\n",
       "        vertical-align: top;\n",
       "    }\n",
       "\n",
       "    .dataframe thead th {\n",
       "        text-align: right;\n",
       "    }\n",
       "</style>\n",
       "<table border=\"1\" class=\"dataframe\">\n",
       "  <thead>\n",
       "    <tr style=\"text-align: right;\">\n",
       "      <th></th>\n",
       "      <th>Name</th>\n",
       "      <th>City, State</th>\n",
       "      <th>Violation</th>\n",
       "      <th>Duration</th>\n",
       "      <th>Start date</th>\n",
       "      <th>End date</th>\n",
       "    </tr>\n",
       "  </thead>\n",
       "  <tbody>\n",
       "    <tr>\n",
       "      <th>0</th>\n",
       "      <td>J&amp;J Harvesting</td>\n",
       "      <td>Leads, ND</td>\n",
       "      <td>Failure to respond to audit (partial response)</td>\n",
       "      <td>2 years</td>\n",
       "      <td>1/19/2014</td>\n",
       "      <td>1/18/2016</td>\n",
       "    </tr>\n",
       "    <tr>\n",
       "      <th>1</th>\n",
       "      <td>Stahlman Apiaries, Inc</td>\n",
       "      <td>Selby, SD</td>\n",
       "      <td>Failure to respond to audit (partial response)</td>\n",
       "      <td>1 year</td>\n",
       "      <td>2/19/2015</td>\n",
       "      <td>2/14/2016</td>\n",
       "    </tr>\n",
       "    <tr>\n",
       "      <th>2</th>\n",
       "      <td>Trust Nursery</td>\n",
       "      <td>Pulaski, NY</td>\n",
       "      <td>Failure to respond to audit (partial response)</td>\n",
       "      <td>1 year</td>\n",
       "      <td>3/21/2014</td>\n",
       "      <td>3/20/2015</td>\n",
       "    </tr>\n",
       "    <tr>\n",
       "      <th>3</th>\n",
       "      <td>Anton Fertilizer Inc.</td>\n",
       "      <td>Dighton, KS</td>\n",
       "      <td>Failure to respond to audit (no response)</td>\n",
       "      <td>2 years</td>\n",
       "      <td>3/30/2014</td>\n",
       "      <td>3/29/2016</td>\n",
       "    </tr>\n",
       "    <tr>\n",
       "      <th>4</th>\n",
       "      <td>Great Plains Fluid Service, Inc.</td>\n",
       "      <td>Greensburg, KS</td>\n",
       "      <td>Failure to respond to audit (no response)</td>\n",
       "      <td>2 years</td>\n",
       "      <td>3/30/2014</td>\n",
       "      <td>3/29/2016</td>\n",
       "    </tr>\n",
       "  </tbody>\n",
       "</table>\n",
       "</div>"
      ],
      "text/plain": [
       "                               Name     City, State  \\\n",
       "0                    J&J Harvesting       Leads, ND   \n",
       "1            Stahlman Apiaries, Inc       Selby, SD   \n",
       "2                     Trust Nursery     Pulaski, NY   \n",
       "3             Anton Fertilizer Inc.     Dighton, KS   \n",
       "4  Great Plains Fluid Service, Inc.  Greensburg, KS   \n",
       "\n",
       "                                        Violation Duration Start date  \\\n",
       "0  Failure to respond to audit (partial response)  2 years  1/19/2014   \n",
       "1  Failure to respond to audit (partial response)   1 year  2/19/2015   \n",
       "2  Failure to respond to audit (partial response)   1 year  3/21/2014   \n",
       "3       Failure to respond to audit (no response)  2 years  3/30/2014   \n",
       "4       Failure to respond to audit (no response)  2 years  3/30/2014   \n",
       "\n",
       "    End date  \n",
       "0  1/18/2016  \n",
       "1  2/14/2016  \n",
       "2  3/20/2015  \n",
       "3  3/29/2016  \n",
       "4  3/29/2016  "
      ]
     },
     "execution_count": 18,
     "metadata": {},
     "output_type": "execute_result"
    }
   ],
   "source": [
    "h2a_final.isnull().sum()\n",
    "\n",
    "print(h2a_final.head())\n",
    "\n",
    "## remove linebreaks from name and violation col which messes up csv writing\n",
    "nolb_name = [re.sub(\"\\\\r\", \" \", s) for s in h2a_final.Name]\n",
    "nolb_viol = [re.sub(\"\\\\r\", \" \", s) for s in h2a_final.Violation]\n",
    "h2a_final['Name'] = nolb_name\n",
    "h2a_final['Violation'] = nolb_viol\n",
    "h2a_final.head()"
   ]
  },
  {
   "cell_type": "markdown",
   "metadata": {},
   "source": [
    "### Pulling out debarment data"
   ]
  },
  {
   "cell_type": "code",
   "execution_count": 20,
   "metadata": {},
   "outputs": [],
   "source": [
    "# read in with tabula\n",
    "debar = tabula.read_pdf(path2, lattice=True, pages = \"all\", pandas_options={'header':None})\n",
    "# pull out headers\n",
    "headers2 = debar[0].values.tolist()[2]\n",
    "# cut out excessive rows at the beginning\n",
    "for i in range(0,6):\n",
    "    debar[i] = debar[i].iloc[4:]\n",
    "#debar[0] = debar[0].iloc[4:]\n",
    "# assign headers to each df in the list of dfs\n",
    "for df in debar: df.columns = headers2\n",
    "# concat all df\n",
    "debar_concat = pd.concat(debar)\n",
    "# cleaning and index\n",
    "debar_final = debar_concat.replace('\\r',' ', regex=True)\n",
    "debar_final = debar_final.dropna(how='all') \n",
    "debar_final.reset_index(drop=True, inplace=True)"
   ]
  },
  {
   "cell_type": "code",
   "execution_count": 22,
   "metadata": {},
   "outputs": [
    {
     "data": {
      "text/html": [
       "<div>\n",
       "<style scoped>\n",
       "    .dataframe tbody tr th:only-of-type {\n",
       "        vertical-align: middle;\n",
       "    }\n",
       "\n",
       "    .dataframe tbody tr th {\n",
       "        vertical-align: top;\n",
       "    }\n",
       "\n",
       "    .dataframe thead th {\n",
       "        text-align: right;\n",
       "    }\n",
       "</style>\n",
       "<table border=\"1\" class=\"dataframe\">\n",
       "  <thead>\n",
       "    <tr style=\"text-align: right;\">\n",
       "      <th></th>\n",
       "      <th>Entity</th>\n",
       "      <th>Entity Type</th>\n",
       "      <th>Employer Location</th>\n",
       "      <th>Start of Debarment</th>\n",
       "      <th>End of Debarment</th>\n",
       "      <th>Violation</th>\n",
       "      <th>CFR Citation</th>\n",
       "    </tr>\n",
       "  </thead>\n",
       "  <tbody>\n",
       "    <tr>\n",
       "      <th>0</th>\n",
       "      <td>Grace Yu</td>\n",
       "      <td>Agent</td>\n",
       "      <td>Duluth, Georgia</td>\n",
       "      <td>May 13, 2020</td>\n",
       "      <td>May 12, 2023</td>\n",
       "      <td>Failure to respond to audit request</td>\n",
       "      <td>20 CFR §§ 656.20 and 656.31(f)(1)(iv)</td>\n",
       "    </tr>\n",
       "    <tr>\n",
       "      <th>1</th>\n",
       "      <td>Harrison Poultry, Inc.</td>\n",
       "      <td>Employer</td>\n",
       "      <td>Bethlehem, Georgia</td>\n",
       "      <td>June 29, 2018</td>\n",
       "      <td>June 29, 2021</td>\n",
       "      <td>Failure to respond to audit request</td>\n",
       "      <td>20 CFR §§ 656.20 and 656.31(f)(1)(iv)</td>\n",
       "    </tr>\n",
       "    <tr>\n",
       "      <th>2</th>\n",
       "      <td>Raul G. Sebazco</td>\n",
       "      <td>Agent</td>\n",
       "      <td>Miami, Florida</td>\n",
       "      <td>September 2, 2020</td>\n",
       "      <td>September 1, 2023</td>\n",
       "      <td>Participated or facilitated prohibited actions</td>\n",
       "      <td>20 CFR 656.31(f)(1)(i)</td>\n",
       "    </tr>\n",
       "    <tr>\n",
       "      <th>3</th>\n",
       "      <td>Lorenzo Construction, LLC</td>\n",
       "      <td>Employer</td>\n",
       "      <td>Crofton, Maryland</td>\n",
       "      <td>February 26, 2021</td>\n",
       "      <td>February 26, 2022</td>\n",
       "      <td>Failure to respond to audit request</td>\n",
       "      <td>20 CFR §§ 656.20 and 656.31(f)(1)(iv)</td>\n",
       "    </tr>\n",
       "    <tr>\n",
       "      <th>4</th>\n",
       "      <td>Victory Processing, LLC</td>\n",
       "      <td>Employer</td>\n",
       "      <td>Gainesville, Georgia</td>\n",
       "      <td>March 31, 2021</td>\n",
       "      <td>March 21, 2022</td>\n",
       "      <td>Failure to respond to audit request</td>\n",
       "      <td>20 CFR §§ 656.20 and 656.31(f)(1)(iv)</td>\n",
       "    </tr>\n",
       "  </tbody>\n",
       "</table>\n",
       "</div>"
      ],
      "text/plain": [
       "                      Entity Entity Type     Employer Location  \\\n",
       "0                   Grace Yu       Agent       Duluth, Georgia   \n",
       "1     Harrison Poultry, Inc.    Employer    Bethlehem, Georgia   \n",
       "2            Raul G. Sebazco       Agent        Miami, Florida   \n",
       "3  Lorenzo Construction, LLC    Employer     Crofton, Maryland   \n",
       "4    Victory Processing, LLC    Employer  Gainesville, Georgia   \n",
       "\n",
       "  Start of Debarment   End of Debarment  \\\n",
       "0       May 13, 2020       May 12, 2023   \n",
       "1      June 29, 2018      June 29, 2021   \n",
       "2  September 2, 2020  September 1, 2023   \n",
       "3  February 26, 2021  February 26, 2022   \n",
       "4     March 31, 2021     March 21, 2022   \n",
       "\n",
       "                                        Violation  \\\n",
       "0             Failure to respond to audit request   \n",
       "1             Failure to respond to audit request   \n",
       "2  Participated or facilitated prohibited actions   \n",
       "3             Failure to respond to audit request   \n",
       "4             Failure to respond to audit request   \n",
       "\n",
       "                            CFR Citation  \n",
       "0  20 CFR §§ 656.20 and 656.31(f)(1)(iv)  \n",
       "1  20 CFR §§ 656.20 and 656.31(f)(1)(iv)  \n",
       "2                 20 CFR 656.31(f)(1)(i)  \n",
       "3  20 CFR §§ 656.20 and 656.31(f)(1)(iv)  \n",
       "4  20 CFR §§ 656.20 and 656.31(f)(1)(iv)  "
      ]
     },
     "execution_count": 22,
     "metadata": {},
     "output_type": "execute_result"
    }
   ],
   "source": [
    "debar_final.isnull().sum()\n",
    "\n",
    "debar_final.head()"
   ]
  },
  {
   "cell_type": "code",
   "execution_count": 23,
   "metadata": {},
   "outputs": [
    {
     "data": {
      "text/plain": [
       "0"
      ]
     },
     "execution_count": 23,
     "metadata": {},
     "output_type": "execute_result"
    }
   ],
   "source": [
    "### look at overlap with other debarment file\n",
    "debar_ent_cap = debar_final.Entity.str.upper()\n",
    "debar_name_cap = h2a_final.Name.str.upper()\n",
    "\n",
    "### no intersect at least with partially cleaned entities\n",
    "len(set(debar_ent_cap).intersection(debar_name_cap))"
   ]
  },
  {
   "cell_type": "code",
   "execution_count": 24,
   "metadata": {},
   "outputs": [],
   "source": [
    "# save to csv\n",
    "WRITE_CSV = True\n",
    "if WRITE_CSV:\n",
    "    debar_final.to_csv(\"../data/intermediate/current_debarment.csv\", index = False)\n",
    "    h2a_final.to_csv(\"../data/intermediate/expired_h2a_debarment.csv\", index = False)\n"
   ]
  }
 ],
 "metadata": {
  "kernelspec": {
   "display_name": "Python 3",
   "language": "python",
   "name": "python3"
  },
  "language_info": {
   "codemirror_mode": {
    "name": "ipython",
    "version": 3
   },
   "file_extension": ".py",
   "mimetype": "text/x-python",
   "name": "python",
   "nbconvert_exporter": "python",
   "pygments_lexer": "ipython3",
   "version": "3.8.3"
  }
 },
 "nbformat": 4,
 "nbformat_minor": 4
}
