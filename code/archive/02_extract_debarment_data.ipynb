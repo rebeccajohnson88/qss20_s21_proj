{
 "cells": [
  {
   "cell_type": "markdown",
   "metadata": {},
   "source": [
    "# Debarment Data Extraction"
   ]
  },
  {
   "cell_type": "code",
   "execution_count": 28,
   "metadata": {},
   "outputs": [],
   "source": [
    "import tabula\n",
    "import pandas as pd\n",
    "import os"
   ]
  },
  {
   "cell_type": "code",
   "execution_count": 6,
   "metadata": {},
   "outputs": [],
   "source": [
    "# pdf path names\n",
    "## can also read from raw dir if \n",
    "## path names change\n",
    "path1 = \"https://www.foreignlaborcert.doleta.gov/pdf/H-2A_Expired_Debarments_OFLC_webpage_Final_Draft.pdf\"\n",
    "path2 = \"https://www.dol.gov/sites/dolgov/files/ETA/oflc/pdfs/Debarment_List.pdf\""
   ]
  },
  {
   "cell_type": "markdown",
   "metadata": {},
   "source": [
    "### Pulling out h2a debarment data"
   ]
  },
  {
   "cell_type": "code",
   "execution_count": 7,
   "metadata": {},
   "outputs": [],
   "source": [
    "# read in with tabula\n",
    "debar_h2a = tabula.read_pdf(path1, lattice=True, pages = \"all\", pandas_options={'header':None})\n",
    "# pull out headers\n",
    "headers = debar_h2a[0].values.tolist()[2]\n",
    "# cut out excessive rows at the beginning\n",
    "debar_h2a[0] = debar_h2a[0].iloc[5:]\n",
    "# assign headers to each df in the list of dfs\n",
    "for df in debar_h2a: df.columns = headers\n",
    "# concat all df\n",
    "h2a_concat = pd.concat(debar_h2a)"
   ]
  },
  {
   "cell_type": "code",
   "execution_count": 16,
   "metadata": {},
   "outputs": [],
   "source": [
    "pd.set_option('display.max_rows', 200)\n"
   ]
  },
  {
   "cell_type": "code",
   "execution_count": 18,
   "metadata": {},
   "outputs": [],
   "source": [
    "# deal with Nas\n",
    "h2a_concat = h2a_concat[~h2a_concat.Name.str.contains('FY', na=False)]\n",
    "h2a_final = h2a_concat.dropna(how='all')\n",
    "h2a_final.reset_index(drop=True, inplace=True)"
   ]
  },
  {
   "cell_type": "code",
   "execution_count": 20,
   "metadata": {},
   "outputs": [
    {
     "data": {
      "text/plain": [
       "Name           0\n",
       "City, State    1\n",
       "Violation      0\n",
       "Duration       0\n",
       "Start date     0\n",
       "End date       0\n",
       "dtype: int64"
      ]
     },
     "execution_count": 20,
     "metadata": {},
     "output_type": "execute_result"
    }
   ],
   "source": [
    "h2a_final.isnull().sum()"
   ]
  },
  {
   "cell_type": "markdown",
   "metadata": {},
   "source": [
    "### Pulling out debarment data"
   ]
  },
  {
   "cell_type": "code",
   "execution_count": 21,
   "metadata": {},
   "outputs": [],
   "source": [
    "# read in with tabula\n",
    "debar = tabula.read_pdf(path2, lattice=True, pages = \"all\", pandas_options={'header':None})\n",
    "# pull out headers\n",
    "headers2 = debar[0].values.tolist()[2]\n",
    "# cut out excessive rows at the beginning\n",
    "for i in range(0,6):\n",
    "    debar[i] = debar[i].iloc[4:]\n",
    "#debar[0] = debar[0].iloc[4:]\n",
    "# assign headers to each df in the list of dfs\n",
    "for df in debar: df.columns = headers2\n",
    "# concat all df\n",
    "debar_concat = pd.concat(debar)\n",
    "# cleaning and index\n",
    "debar_final = debar_concat.replace('\\r',' ', regex=True)\n",
    "debar_final = debar_final.dropna(how='all') \n",
    "debar_final.reset_index(drop=True, inplace=True)"
   ]
  },
  {
   "cell_type": "code",
   "execution_count": 22,
   "metadata": {},
   "outputs": [
    {
     "data": {
      "text/plain": [
       "Entity                 0\n",
       "Entity Type            0\n",
       "Employer Location      0\n",
       "Start of Debarment     0\n",
       "End of Debarment       0\n",
       "Violation              0\n",
       "CFR Citation          73\n",
       "dtype: int64"
      ]
     },
     "execution_count": 22,
     "metadata": {},
     "output_type": "execute_result"
    }
   ],
   "source": [
    "debar_final.isnull().sum()"
   ]
  },
  {
   "cell_type": "code",
   "execution_count": 33,
   "metadata": {},
   "outputs": [
    {
     "data": {
      "text/plain": [
       "0"
      ]
     },
     "execution_count": 33,
     "metadata": {},
     "output_type": "execute_result"
    }
   ],
   "source": [
    "### look at overlap with other debarment file\n",
    "debar_ent_cap = debar_final.Entity.str.upper()\n",
    "debar_name_cap = h2a_final.Name.str.upper()\n",
    "\n",
    "### no intersect at least with partially cleaned entities\n",
    "len(set(debar_ent_cap).intersection(debar_name_cap))"
   ]
  },
  {
   "cell_type": "code",
   "execution_count": 30,
   "metadata": {},
   "outputs": [],
   "source": [
    "# save to csv\n",
    "WRITE_CSV = True\n",
    "if WRITE_CSV:\n",
    "    debar_final.to_csv(\"../data/intermediate/current_debarment.csv\", index = False)\n",
    "    h2a_final.to_csv(\"../data/intermediate/expired_h2a_debarment.csv\", index = False)\n"
   ]
  }
 ],
 "metadata": {
  "kernelspec": {
   "display_name": "Python 3",
   "language": "python",
   "name": "python3"
  },
  "language_info": {
   "codemirror_mode": {
    "name": "ipython",
    "version": 3
   },
   "file_extension": ".py",
   "mimetype": "text/x-python",
   "name": "python",
   "nbconvert_exporter": "python",
   "pygments_lexer": "ipython3",
   "version": "3.8.3"
  }
 },
 "nbformat": 4,
 "nbformat_minor": 4
}
