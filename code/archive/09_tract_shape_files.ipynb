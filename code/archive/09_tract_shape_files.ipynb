{
 "cells": [
  {
   "cell_type": "code",
   "execution_count": 34,
   "id": "a9b66d3c",
   "metadata": {},
   "outputs": [],
   "source": [
    "import pandas as pd\n",
    "import urllib\n",
    "from bs4 import BeautifulSoup\n",
    "from urllib.request import Request, urlopen\n",
    "import requests\n",
    "import re"
   ]
  },
  {
   "cell_type": "markdown",
   "id": "8b4a08ed",
   "metadata": {},
   "source": [
    "# Get Links to Tract Shape File Zips"
   ]
  },
  {
   "cell_type": "code",
   "execution_count": 37,
   "id": "2072b8de",
   "metadata": {},
   "outputs": [],
   "source": [
    "main_url = 'https://www2.census.gov/geo/tiger/TIGER2014/TRACT/'\n",
    "\n",
    "raw_content = requests.get(main_url).text\n",
    "parsed_content = BeautifulSoup(raw_content, 'html.parser')\n",
    "\n",
    "find_links = parsed_content.findAll(\"a\", attrs = {\"href\": re.compile(\"tract\")})\n",
    "zip_names = [link.get('href') for link in find_links]\n",
    "zip_links = [main_url + link for link in zip_names]"
   ]
  },
  {
   "cell_type": "markdown",
   "id": "70198571",
   "metadata": {},
   "source": [
    "# Download Zips to Dropbox"
   ]
  },
  {
   "cell_type": "code",
   "execution_count": 40,
   "id": "fe9d91fa",
   "metadata": {},
   "outputs": [],
   "source": [
    "output_dir = '../../qss20_finalproj_rawdata/summerwork/raw/tract_shp/'\n",
    "\n",
    "for i in range(0, len(zip_links)-1):\n",
    "    folder = open(output_dir + zip_names[i], 'wb')\n",
    "    folder.write(requests.get(zip_links[i]).content)\n",
    "    folder.close"
   ]
  }
 ],
 "metadata": {
  "kernelspec": {
   "display_name": "Python 3",
   "language": "python",
   "name": "python3"
  },
  "language_info": {
   "codemirror_mode": {
    "name": "ipython",
    "version": 3
   },
   "file_extension": ".py",
   "mimetype": "text/x-python",
   "name": "python",
   "nbconvert_exporter": "python",
   "pygments_lexer": "ipython3",
   "version": "3.8.5"
  }
 },
 "nbformat": 4,
 "nbformat_minor": 5
}
